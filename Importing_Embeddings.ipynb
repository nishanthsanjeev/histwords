{
  "nbformat": 4,
  "nbformat_minor": 0,
  "metadata": {
    "colab": {
      "name": "Importing Embeddings",
      "provenance": [],
      "private_outputs": true,
      "include_colab_link": true
    },
    "kernelspec": {
      "name": "python3",
      "display_name": "Python 3"
    }
  },
  "cells": [
    {
      "cell_type": "markdown",
      "metadata": {
        "id": "view-in-github",
        "colab_type": "text"
      },
      "source": [
        "<a href=\"https://colab.research.google.com/github/nishanthsanjeev/histwords/blob/master/Importing_Embeddings.ipynb\" target=\"_parent\"><img src=\"https://colab.research.google.com/assets/colab-badge.svg\" alt=\"Open In Colab\"/></a>"
      ]
    },
    {
      "cell_type": "code",
      "metadata": {
        "id": "HxBS7FLvi2XE",
        "colab_type": "code",
        "colab": {}
      },
      "source": [
        "!git clone https://github.com/williamleif/histwords.git"
      ],
      "execution_count": 0,
      "outputs": []
    },
    {
      "cell_type": "code",
      "metadata": {
        "id": "ug7wxJkOZodG",
        "colab_type": "code",
        "colab": {}
      },
      "source": [
        "%pwd\n"
      ],
      "execution_count": 0,
      "outputs": []
    },
    {
      "cell_type": "code",
      "metadata": {
        "id": "TIeIqlJEoQJz",
        "colab_type": "code",
        "colab": {}
      },
      "source": [
        "%cd histwords/"
      ],
      "execution_count": 0,
      "outputs": []
    },
    {
      "cell_type": "code",
      "metadata": {
        "id": "1gbMntqxbyi1",
        "colab_type": "code",
        "colab": {}
      },
      "source": [
        "!git clone https://github.com/scikit-learn/scikit-learn.git"
      ],
      "execution_count": 0,
      "outputs": []
    },
    {
      "cell_type": "code",
      "metadata": {
        "id": "E4JxP3EM-YwN",
        "colab_type": "code",
        "colab": {}
      },
      "source": [
        "!/home/nishanthsanjeev/histwords/example.sh"
      ],
      "execution_count": 0,
      "outputs": []
    },
    {
      "cell_type": "code",
      "metadata": {
        "id": "n63MYij1-dIl",
        "colab_type": "code",
        "colab": {}
      },
      "source": [
        "!python example.py"
      ],
      "execution_count": 0,
      "outputs": []
    },
    {
      "cell_type": "code",
      "metadata": {
        "id": "avtnJotSgbhG",
        "colab_type": "code",
        "colab": {}
      },
      "source": [
        "!python nish.py"
      ],
      "execution_count": 0,
      "outputs": []
    },
    {
      "cell_type": "code",
      "metadata": {
        "id": "qfNJXg29o15J",
        "colab_type": "code",
        "colab": {}
      },
      "source": [
        ""
      ],
      "execution_count": 0,
      "outputs": []
    }
  ]
}